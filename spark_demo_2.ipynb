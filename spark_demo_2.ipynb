{
  "nbformat": 4,
  "nbformat_minor": 0,
  "metadata": {
    "colab": {
      "provenance": []
    },
    "kernelspec": {
      "name": "python3",
      "display_name": "Python 3"
    },
    "language_info": {
      "name": "python"
    }
  },
  "cells": [
    {
      "cell_type": "code",
      "execution_count": null,
      "metadata": {
        "colab": {
          "base_uri": "https://localhost:8080/"
        },
        "id": "KPXJKpaBiyjL",
        "outputId": "f4b09645-52b1-4f63-a0c9-4f7c074ab28a"
      },
      "outputs": [
        {
          "output_type": "stream",
          "name": "stdout",
          "text": [
            "Collecting pyspark\n",
            "  Downloading pyspark-3.5.1.tar.gz (317.0 MB)\n",
            "\u001b[2K     \u001b[90m━━━━━━━━━━━━━━━━━━━━━━━━━━━━━━━━━━━━━━━━\u001b[0m \u001b[32m317.0/317.0 MB\u001b[0m \u001b[31m1.9 MB/s\u001b[0m eta \u001b[36m0:00:00\u001b[0m\n",
            "\u001b[?25h  Preparing metadata (setup.py) ... \u001b[?25l\u001b[?25hdone\n",
            "Requirement already satisfied: py4j==0.10.9.7 in /usr/local/lib/python3.10/dist-packages (from pyspark) (0.10.9.7)\n",
            "Building wheels for collected packages: pyspark\n",
            "  Building wheel for pyspark (setup.py) ... \u001b[?25l\u001b[?25hdone\n",
            "  Created wheel for pyspark: filename=pyspark-3.5.1-py2.py3-none-any.whl size=317488491 sha256=4c7dda1382bf8a70c4f55f477b02f838f8e702a31c6998a4fde6dc6f3533e519\n",
            "  Stored in directory: /root/.cache/pip/wheels/80/1d/60/2c256ed38dddce2fdd93be545214a63e02fbd8d74fb0b7f3a6\n",
            "Successfully built pyspark\n",
            "Installing collected packages: pyspark\n",
            "Successfully installed pyspark-3.5.1\n"
          ]
        }
      ],
      "source": [
        "! pip install pyspark"
      ]
    },
    {
      "cell_type": "code",
      "source": [
        "from pyspark.sql import SparkSession\n",
        "from pyspark.sql.types import *\n",
        "from pyspark.sql.functions import col,lit"
      ],
      "metadata": {
        "id": "6eFts8rri6o-"
      },
      "execution_count": null,
      "outputs": []
    },
    {
      "cell_type": "code",
      "source": [
        "spark=SparkSession.builder.appName(\"part2\").getOrCreate()"
      ],
      "metadata": {
        "id": "4OjgACAAjIFl"
      },
      "execution_count": null,
      "outputs": []
    },
    {
      "cell_type": "code",
      "source": [
        "testDf=[[1,\"jan\"],[2,\"feb\"],[1,\"jan\"],[3,\"may\"],[4,\"april\"],[5,\"aug\"],[6,\"may\"],[6,\"may\"],[3,\"may\"],[12,\"dec\"]]"
      ],
      "metadata": {
        "id": "Gci6K82CjSjg"
      },
      "execution_count": null,
      "outputs": []
    },
    {
      "cell_type": "code",
      "source": [
        "schema=StructType([StructField(\"ID\",IntegerType()),StructField(\"Month\",StringType())])"
      ],
      "metadata": {
        "id": "dslnBeXCjaoi"
      },
      "execution_count": null,
      "outputs": []
    },
    {
      "cell_type": "code",
      "source": [
        "df_new=spark.createDataFrame(testDf,schema=schema)"
      ],
      "metadata": {
        "id": "0YkxY0Vijcs9"
      },
      "execution_count": null,
      "outputs": []
    },
    {
      "cell_type": "code",
      "source": [
        "df_new.show()"
      ],
      "metadata": {
        "colab": {
          "base_uri": "https://localhost:8080/"
        },
        "id": "_P4ALeemjeeU",
        "outputId": "e3431df0-aba0-4606-f1fc-f98161faca20"
      },
      "execution_count": null,
      "outputs": [
        {
          "output_type": "stream",
          "name": "stdout",
          "text": [
            "+---+-----+\n",
            "| ID|Month|\n",
            "+---+-----+\n",
            "|  1|  jan|\n",
            "|  2|  feb|\n",
            "|  1|  jan|\n",
            "|  3|  may|\n",
            "|  4|april|\n",
            "|  5|  aug|\n",
            "|  6|  may|\n",
            "|  6|  may|\n",
            "|  3|  may|\n",
            "| 12|  dec|\n",
            "+---+-----+\n",
            "\n"
          ]
        }
      ]
    },
    {
      "cell_type": "code",
      "source": [
        "#To remove the duplicated rows with the dataframe we use distinct()\n",
        "\n",
        "df_new.distinct().show()"
      ],
      "metadata": {
        "colab": {
          "base_uri": "https://localhost:8080/"
        },
        "id": "-HMTqNSvlFZf",
        "outputId": "8ce302b6-f8a8-4c65-d45e-5b38c773de7c"
      },
      "execution_count": null,
      "outputs": [
        {
          "output_type": "stream",
          "name": "stdout",
          "text": [
            "+---+-----+\n",
            "| ID|Month|\n",
            "+---+-----+\n",
            "|  4|april|\n",
            "|  1|  jan|\n",
            "|  2|  feb|\n",
            "|  3|  may|\n",
            "|  5|  aug|\n",
            "| 12|  dec|\n",
            "|  6|  may|\n",
            "+---+-----+\n",
            "\n"
          ]
        }
      ]
    },
    {
      "cell_type": "code",
      "source": [
        "df_new.show()"
      ],
      "metadata": {
        "colab": {
          "base_uri": "https://localhost:8080/"
        },
        "id": "AqT6VKtvlFW4",
        "outputId": "dd5bc0f8-c164-4905-865f-94f9003aeb84"
      },
      "execution_count": null,
      "outputs": [
        {
          "output_type": "stream",
          "name": "stdout",
          "text": [
            "+---+-----+\n",
            "| ID|Month|\n",
            "+---+-----+\n",
            "|  1|  jan|\n",
            "|  2|  feb|\n",
            "|  1|  jan|\n",
            "|  3|  may|\n",
            "|  4|april|\n",
            "|  5|  aug|\n",
            "|  6|  may|\n",
            "|  6|  may|\n",
            "|  3|  may|\n",
            "| 12|  dec|\n",
            "+---+-----+\n",
            "\n"
          ]
        }
      ]
    },
    {
      "cell_type": "code",
      "source": [
        "# To remove the duplicates from the month column\n",
        "df_new.dropDuplicates([\"month\"]).show()\n",
        "df_new.dropDuplicates([\"ID\"]).show()\n",
        "df_new.dropDuplicates([\"ID\",\"Month\"]).show()"
      ],
      "metadata": {
        "colab": {
          "base_uri": "https://localhost:8080/"
        },
        "id": "-qBmdhv_lFT8",
        "outputId": "9af66c4b-7a6b-470c-fc7a-1ba3c47d0fbf"
      },
      "execution_count": null,
      "outputs": [
        {
          "output_type": "stream",
          "name": "stdout",
          "text": [
            "+---+-----+\n",
            "| ID|Month|\n",
            "+---+-----+\n",
            "|  3|  may|\n",
            "|  2|  feb|\n",
            "|  4|april|\n",
            "|  1|  jan|\n",
            "|  5|  aug|\n",
            "| 12|  dec|\n",
            "+---+-----+\n",
            "\n",
            "+---+-----+\n",
            "| ID|Month|\n",
            "+---+-----+\n",
            "|  1|  jan|\n",
            "|  2|  feb|\n",
            "|  3|  may|\n",
            "|  4|april|\n",
            "|  5|  aug|\n",
            "|  6|  may|\n",
            "| 12|  dec|\n",
            "+---+-----+\n",
            "\n",
            "+---+-----+\n",
            "| ID|Month|\n",
            "+---+-----+\n",
            "|  4|april|\n",
            "|  1|  jan|\n",
            "|  2|  feb|\n",
            "|  3|  may|\n",
            "|  5|  aug|\n",
            "| 12|  dec|\n",
            "|  6|  may|\n",
            "+---+-----+\n",
            "\n"
          ]
        }
      ]
    },
    {
      "cell_type": "code",
      "source": [
        "df_new.rdd.getNumPartitions()"
      ],
      "metadata": {
        "colab": {
          "base_uri": "https://localhost:8080/"
        },
        "id": "qtwkY4OrsYj8",
        "outputId": "04f4ca1d-6922-49d3-c006-2d21912bffe1"
      },
      "execution_count": null,
      "outputs": [
        {
          "output_type": "execute_result",
          "data": {
            "text/plain": [
              "2"
            ]
          },
          "metadata": {},
          "execution_count": 22
        }
      ]
    },
    {
      "cell_type": "code",
      "source": [
        "#To save the spark sql dataframe into a csv\n",
        "\n",
        "df_new.write.csv(\"df_new1.csv\",header=True)"
      ],
      "metadata": {
        "id": "8fWO9DIwlFQ9"
      },
      "execution_count": null,
      "outputs": []
    },
    {
      "cell_type": "code",
      "source": [
        "dfn=df_new.coalesce(1)"
      ],
      "metadata": {
        "id": "-vGv4e_ClFOG"
      },
      "execution_count": null,
      "outputs": []
    },
    {
      "cell_type": "code",
      "source": [
        "dfn.rdd.getNumPartitions()"
      ],
      "metadata": {
        "colab": {
          "base_uri": "https://localhost:8080/"
        },
        "id": "B0lECvyxlFLU",
        "outputId": "bdc381d3-8012-4d7c-da74-0a78555691d9"
      },
      "execution_count": null,
      "outputs": [
        {
          "output_type": "execute_result",
          "data": {
            "text/plain": [
              "1"
            ]
          },
          "metadata": {},
          "execution_count": 26
        }
      ]
    },
    {
      "cell_type": "markdown",
      "source": [
        "*************PART-B***********************"
      ],
      "metadata": {
        "id": "ABEQpwb80gsU"
      }
    },
    {
      "cell_type": "code",
      "source": [
        "# In this Module we are going to discuss about using SQL in Spark SQL"
      ],
      "metadata": {
        "id": "ZkfsSXqrlFI7"
      },
      "execution_count": null,
      "outputs": []
    },
    {
      "cell_type": "code",
      "source": [
        "leader_data = [[\"Dodge\",\"Mohammed Saif\"],[\"Cadillac\", \"George Carlin\"],[\"BMW\", \"Stuart Broad\"], [\"Ford\", \"Abdalla\"], [\"Hyundai\", \"Chris Gayle\"],[\"Lexus\", \"George Bush\"], [\"Mercury\", \"Tatyaso Martin\"]]\n"
      ],
      "metadata": {
        "id": "0inTyfMHlFGN"
      },
      "execution_count": null,
      "outputs": []
    },
    {
      "cell_type": "code",
      "source": [
        "schema = StructType([StructField(\"Manufacturer\", StringType()), StructField(\"SalesPerson\", StringType())])"
      ],
      "metadata": {
        "id": "bopkDEuG2vSa"
      },
      "execution_count": null,
      "outputs": []
    },
    {
      "cell_type": "code",
      "source": [
        "df_lead=spark.createDataFrame(leader_data,schema=schema)"
      ],
      "metadata": {
        "id": "WQh4j9t7lE90"
      },
      "execution_count": null,
      "outputs": []
    },
    {
      "cell_type": "code",
      "source": [
        "df_lead.show()"
      ],
      "metadata": {
        "colab": {
          "base_uri": "https://localhost:8080/"
        },
        "id": "jImbqqNglE4M",
        "outputId": "a12726c2-7ee7-4f7d-d629-81a5c594c5c6"
      },
      "execution_count": null,
      "outputs": [
        {
          "output_type": "stream",
          "name": "stdout",
          "text": [
            "+------------+--------------+\n",
            "|Manufacturer|   SalesPerson|\n",
            "+------------+--------------+\n",
            "|       Dodge| Mohammed Saif|\n",
            "|    Cadillac| George Carlin|\n",
            "|         BMW|  Stuart Broad|\n",
            "|        Ford|       Abdalla|\n",
            "|     Hyundai|   Chris Gayle|\n",
            "|       Lexus|   George Bush|\n",
            "|     Mercury|Tatyaso Martin|\n",
            "+------------+--------------+\n",
            "\n"
          ]
        }
      ]
    },
    {
      "cell_type": "code",
      "source": [
        "# To convert the dataframe into sql table\n",
        "\n",
        "df_lead.createOrReplaceTempView(\"salestable\")"
      ],
      "metadata": {
        "id": "iXa7INra26XA"
      },
      "execution_count": null,
      "outputs": []
    },
    {
      "cell_type": "code",
      "source": [
        "spark.sql(\"select * from salestable\").show(10,False)"
      ],
      "metadata": {
        "colab": {
          "base_uri": "https://localhost:8080/"
        },
        "id": "-C7_5Tsu3i5g",
        "outputId": "1fb9b920-7d7a-4516-d487-f8a6f1d86cdf"
      },
      "execution_count": null,
      "outputs": [
        {
          "output_type": "stream",
          "name": "stdout",
          "text": [
            "+------------+--------------+\n",
            "|Manufacturer|SalesPerson   |\n",
            "+------------+--------------+\n",
            "|Dodge       |Mohammed Saif |\n",
            "|Cadillac    |George Carlin |\n",
            "|BMW         |Stuart Broad  |\n",
            "|Ford        |Abdalla       |\n",
            "|Hyundai     |Chris Gayle   |\n",
            "|Lexus       |George Bush   |\n",
            "|Mercury     |Tatyaso Martin|\n",
            "+------------+--------------+\n",
            "\n"
          ]
        }
      ]
    },
    {
      "cell_type": "code",
      "source": [
        "spark.sql(\"select * from salestable where Manufacturer == 'Cadillac'\").show(5,False)"
      ],
      "metadata": {
        "colab": {
          "base_uri": "https://localhost:8080/"
        },
        "id": "i7c6VtvQ3rYT",
        "outputId": "d6cc7133-8053-42a6-bb22-627f6da52575"
      },
      "execution_count": null,
      "outputs": [
        {
          "output_type": "stream",
          "name": "stdout",
          "text": [
            "+------------+-------------+\n",
            "|Manufacturer|SalesPerson  |\n",
            "+------------+-------------+\n",
            "|Cadillac    |George Carlin|\n",
            "+------------+-------------+\n",
            "\n"
          ]
        }
      ]
    },
    {
      "cell_type": "code",
      "source": [
        "# let us check to which all brand chris gayle promotes to\n",
        "\n",
        "spark.sql(\"select * from salestable where SalesPerson=='Chris Gayle'\").show()"
      ],
      "metadata": {
        "colab": {
          "base_uri": "https://localhost:8080/"
        },
        "id": "dqeAjwES4C_U",
        "outputId": "58b61239-8d19-4ccd-9500-ee9f8d321e41"
      },
      "execution_count": null,
      "outputs": [
        {
          "output_type": "stream",
          "name": "stdout",
          "text": [
            "+------------+-----------+\n",
            "|Manufacturer|SalesPerson|\n",
            "+------------+-----------+\n",
            "|     Hyundai|Chris Gayle|\n",
            "+------------+-----------+\n",
            "\n"
          ]
        }
      ]
    },
    {
      "cell_type": "code",
      "source": [
        "#To display the names of employees who name starts with G\n",
        "\n",
        "spark.sql(\"select * from salestable where SalesPerson like 'G%'\").show()"
      ],
      "metadata": {
        "colab": {
          "base_uri": "https://localhost:8080/"
        },
        "id": "DfUF2e9g4mvs",
        "outputId": "dc6fd2e3-3258-4166-f15a-c95238e3e892"
      },
      "execution_count": null,
      "outputs": [
        {
          "output_type": "stream",
          "name": "stdout",
          "text": [
            "+------------+-------------+\n",
            "|Manufacturer|  SalesPerson|\n",
            "+------------+-------------+\n",
            "|    Cadillac|George Carlin|\n",
            "|       Lexus|  George Bush|\n",
            "+------------+-------------+\n",
            "\n"
          ]
        }
      ]
    },
    {
      "cell_type": "code",
      "source": [
        "# Print the names of salesperson whose name is ending with a\n",
        "\n",
        "spark.sql(\"select * from salestable where Salesperson like '%n'\").show()"
      ],
      "metadata": {
        "colab": {
          "base_uri": "https://localhost:8080/"
        },
        "id": "uq4RHAa75xrG",
        "outputId": "52750c2e-a843-4b39-acc8-858c5ac237c5"
      },
      "execution_count": null,
      "outputs": [
        {
          "output_type": "stream",
          "name": "stdout",
          "text": [
            "+------------+--------------+\n",
            "|Manufacturer|   SalesPerson|\n",
            "+------------+--------------+\n",
            "|    Cadillac| George Carlin|\n",
            "|     Mercury|Tatyaso Martin|\n",
            "+------------+--------------+\n",
            "\n"
          ]
        }
      ]
    },
    {
      "cell_type": "code",
      "source": [],
      "metadata": {
        "id": "yILVnrms6419"
      },
      "execution_count": null,
      "outputs": []
    },
    {
      "cell_type": "markdown",
      "source": [
        "END OF SALESTABLE\n",
        "\n",
        "---\n",
        "\n"
      ],
      "metadata": {
        "id": "q9EIZzt57Jj-"
      }
    },
    {
      "cell_type": "code",
      "source": [
        "df_car=spark.read.csv(\"/content/Cars_Sale.csv\",header=True)"
      ],
      "metadata": {
        "id": "uDFpEmXK7Qf_"
      },
      "execution_count": null,
      "outputs": []
    },
    {
      "cell_type": "code",
      "source": [
        "df_car.show(1)"
      ],
      "metadata": {
        "colab": {
          "base_uri": "https://localhost:8080/"
        },
        "id": "upT348LZ7ygn",
        "outputId": "8d954441-f86b-4134-ba0a-69880b885e12"
      },
      "execution_count": null,
      "outputs": [
        {
          "output_type": "stream",
          "name": "stdout",
          "text": [
            "+------------+-------+------------+-------------+-----------+-----------+-------------+--------+---------+--------+\n",
            "|Manufacturer|  Model|Vehicle_type|Latest_Launch|Units_Price|Units_Sold |Cost_incurred| Revenue|     Cost|  Profit|\n",
            "+------------+-------+------------+-------------+-----------+-----------+-------------+--------+---------+--------+\n",
            "|       Acura|Integra|   Passenger|   02-02-2012|       21.5|     16.919|        16.36|363.7585|276.79484|86.96366|\n",
            "+------------+-------+------------+-------------+-----------+-----------+-------------+--------+---------+--------+\n",
            "only showing top 1 row\n",
            "\n"
          ]
        }
      ]
    },
    {
      "cell_type": "code",
      "source": [
        "#To rename the column in the data frame\n",
        "\n",
        "df_car=df_car.withColumnRenamed(\"Profit\",\"profit\")"
      ],
      "metadata": {
        "id": "1PIj72Zm8ffQ"
      },
      "execution_count": null,
      "outputs": []
    },
    {
      "cell_type": "code",
      "source": [
        "df_car.show()"
      ],
      "metadata": {
        "colab": {
          "base_uri": "https://localhost:8080/"
        },
        "id": "_Q02or8Q8qUk",
        "outputId": "7a6c6612-ed3e-48f0-c18f-9f536d8174ae"
      },
      "execution_count": null,
      "outputs": [
        {
          "output_type": "stream",
          "name": "stdout",
          "text": [
            "+------------+-----------+------------+-------------+-----------+-----------+-------------+-----------+-----------+-----------+\n",
            "|Manufacturer|      Model|Vehicle_type|Latest_Launch|Units_Price|Units_Sold |Cost_incurred|    Revenue|       Cost|     profit|\n",
            "+------------+-----------+------------+-------------+-----------+-----------+-------------+-----------+-----------+-----------+\n",
            "|       Acura|    Integra|   Passenger|   02-02-2012|       21.5|     16.919|        16.36|   363.7585|  276.79484|   86.96366|\n",
            "|       Acura|         TL|   Passenger|   06-03-2011|       28.4|     39.384|       19.875|  1118.5056|    782.757|   335.7486|\n",
            "|       Acura|         CL|   Passenger|   01-04-2012|      35.44|     14.114|       18.225|  500.20016|  257.22765|  242.97251|\n",
            "|       Acura|         RL|   Passenger|   03-10-2011|         42|      8.588|       29.725|    360.696|   255.2783|   105.4177|\n",
            "|        Audi|         A4|   Passenger|   10-08-2011|      23.99|     20.397|       22.255|  489.32403| 453.935235|  35.388795|\n",
            "|        Audi|         A6|   Passenger|   08-09-2011|      33.95|      18.78|       23.555|    637.581|   442.3629|   195.2181|\n",
            "|        Audi|         A8|   Passenger|    2/27/2012|         62|       1.38|           39|      85.56|      53.82|      31.74|\n",
            "|         BMW|       323i|   Passenger|    6/28/2011|      26.99|     19.747|           11|  532.97153|    217.217|  315.75453|\n",
            "|         BMW|       328i|   Passenger|    1/29/2012|       33.4|      9.231|       28.675|   308.3154| 264.698925|  43.616475|\n",
            "|         BMW|       528i|   Passenger|   04-04-2011|       38.9|     17.527|       36.125|   681.8003| 633.162875|  48.637425|\n",
            "|       Buick|    Century|   Passenger|   11-02-2011|     21.975|     91.561|       12.475|2012.052975|1142.223475|   869.8295|\n",
            "|       Buick|      Regal|   Passenger|   09-03-2011|       25.3|      39.35|        13.74|    995.555|    540.669|    454.886|\n",
            "|       Buick|Park Avenue|   Passenger|    3/23/2012|     31.965|     27.851|        20.19| 890.257215|  562.31169| 327.945525|\n",
            "|       Buick|    LeSabre|   Passenger|    7/23/2011|     27.885|     83.257|        13.36|2321.621445| 1112.31352|1209.307925|\n",
            "|    Cadillac|    DeVille|   Passenger|    2/23/2012|     39.895|     63.729|       22.525|2542.468455|1435.495725| 1106.97273|\n",
            "|    Cadillac|    Seville|   Passenger|    4/29/2011|     44.475|     15.943|         27.1| 709.064925|   432.0553| 277.009625|\n",
            "|    Cadillac|   Eldorado|   Passenger|   11/27/2011|     39.665|      6.536|       25.725|  259.25044|   168.1386|   91.11184|\n",
            "|    Cadillac|     Catera|   Passenger|    9/28/2011|      31.01|     11.185|       18.225|  346.84685| 203.846625| 143.000225|\n",
            "|    Cadillac|   Escalade|         Car|    4/17/2012|     46.225|     14.785|           23| 683.436625|    340.055| 343.381625|\n",
            "|   Chevrolet|   Cavalier|   Passenger|    8/17/2011|      13.26|    145.519|         9.25| 1929.58194| 1346.05075|  583.53119|\n",
            "+------------+-----------+------------+-------------+-----------+-----------+-------------+-----------+-----------+-----------+\n",
            "only showing top 20 rows\n",
            "\n"
          ]
        }
      ]
    },
    {
      "cell_type": "code",
      "source": [
        "#Converting the pyspark.sql dataframe to SQLTABLE with name CARSDATA\n",
        "\n",
        "\n",
        "df_car.createOrReplaceTempView(\"carsdata\")"
      ],
      "metadata": {
        "id": "tcQ08eLq8qR-"
      },
      "execution_count": null,
      "outputs": []
    },
    {
      "cell_type": "code",
      "source": [
        "spark.sql(\"select * from carsdata\").show(100)"
      ],
      "metadata": {
        "colab": {
          "base_uri": "https://localhost:8080/"
        },
        "id": "aPVD475c8qP1",
        "outputId": "441162d7-8c59-48f1-ee47-c4504dab569d"
      },
      "execution_count": null,
      "outputs": [
        {
          "output_type": "stream",
          "name": "stdout",
          "text": [
            "+------------+--------------+------------+-------------+-----------+-----------+-------------+-----------+-----------+-----------+\n",
            "|Manufacturer|         Model|Vehicle_type|Latest_Launch|Units_Price|Units_Sold |Cost_incurred|    Revenue|       Cost|     profit|\n",
            "+------------+--------------+------------+-------------+-----------+-----------+-------------+-----------+-----------+-----------+\n",
            "|       Acura|       Integra|   Passenger|   02-02-2012|       21.5|     16.919|        16.36|   363.7585|  276.79484|   86.96366|\n",
            "|       Acura|            TL|   Passenger|   06-03-2011|       28.4|     39.384|       19.875|  1118.5056|    782.757|   335.7486|\n",
            "|       Acura|            CL|   Passenger|   01-04-2012|      35.44|     14.114|       18.225|  500.20016|  257.22765|  242.97251|\n",
            "|       Acura|            RL|   Passenger|   03-10-2011|         42|      8.588|       29.725|    360.696|   255.2783|   105.4177|\n",
            "|        Audi|            A4|   Passenger|   10-08-2011|      23.99|     20.397|       22.255|  489.32403| 453.935235|  35.388795|\n",
            "|        Audi|            A6|   Passenger|   08-09-2011|      33.95|      18.78|       23.555|    637.581|   442.3629|   195.2181|\n",
            "|        Audi|            A8|   Passenger|    2/27/2012|         62|       1.38|           39|      85.56|      53.82|      31.74|\n",
            "|         BMW|          323i|   Passenger|    6/28/2011|      26.99|     19.747|           11|  532.97153|    217.217|  315.75453|\n",
            "|         BMW|          328i|   Passenger|    1/29/2012|       33.4|      9.231|       28.675|   308.3154| 264.698925|  43.616475|\n",
            "|         BMW|          528i|   Passenger|   04-04-2011|       38.9|     17.527|       36.125|   681.8003| 633.162875|  48.637425|\n",
            "|       Buick|       Century|   Passenger|   11-02-2011|     21.975|     91.561|       12.475|2012.052975|1142.223475|   869.8295|\n",
            "|       Buick|         Regal|   Passenger|   09-03-2011|       25.3|      39.35|        13.74|    995.555|    540.669|    454.886|\n",
            "|       Buick|   Park Avenue|   Passenger|    3/23/2012|     31.965|     27.851|        20.19| 890.257215|  562.31169| 327.945525|\n",
            "|       Buick|       LeSabre|   Passenger|    7/23/2011|     27.885|     83.257|        13.36|2321.621445| 1112.31352|1209.307925|\n",
            "|    Cadillac|       DeVille|   Passenger|    2/23/2012|     39.895|     63.729|       22.525|2542.468455|1435.495725| 1106.97273|\n",
            "|    Cadillac|       Seville|   Passenger|    4/29/2011|     44.475|     15.943|         27.1| 709.064925|   432.0553| 277.009625|\n",
            "|    Cadillac|      Eldorado|   Passenger|   11/27/2011|     39.665|      6.536|       25.725|  259.25044|   168.1386|   91.11184|\n",
            "|    Cadillac|        Catera|   Passenger|    9/28/2011|      31.01|     11.185|       18.225|  346.84685| 203.846625| 143.000225|\n",
            "|    Cadillac|      Escalade|         Car|    4/17/2012|     46.225|     14.785|           23| 683.436625|    340.055| 343.381625|\n",
            "|   Chevrolet|      Cavalier|   Passenger|    8/17/2011|      13.26|    145.519|         9.25| 1929.58194| 1346.05075|  583.53119|\n",
            "|   Chevrolet|        Malibu|   Passenger|    3/19/2012|     16.535|    135.126|       11.225| 2234.30841| 1516.78935|  717.51906|\n",
            "|   Chevrolet|        Lumina|   Passenger|    5/24/2011|      18.89|     24.629|        10.31|  465.24181|  253.92499|  211.31682|\n",
            "|   Chevrolet|   Monte Carlo|   Passenger|   12/22/2011|      19.39|     42.593|       11.525|  825.87827| 490.884325| 334.993945|\n",
            "|   Chevrolet|        Camaro|   Passenger|   10/23/2011|      24.34|     26.402|       13.025|  642.62468|  343.88605|  298.73863|\n",
            "|   Chevrolet|      Corvette|   Passenger|   05-12-2012|     45.705|     17.947|       36.225| 820.267635| 650.130075|  170.13756|\n",
            "|   Chevrolet|         Prizm|   Passenger|   09-11-2011|      13.96|     32.299|        9.125|  450.89404| 294.728375| 156.165665|\n",
            "|   Chevrolet|         Metro|   Passenger|    4/13/2012|      9.235|     21.855|         5.16| 201.830925|   112.7718|  89.059125|\n",
            "|   Chevrolet|        Impala|   Passenger|    6/18/2011|      18.89|    107.995|         5.23| 2040.02555|  564.81385|  1475.2117|\n",
            "|    Chrysler| Sebring Coupe|   Passenger|    1/16/2012|      19.84|      7.854|        12.36|  155.82336|   97.07544|   58.74792|\n",
            "|    Chrysler| Sebring Conv.|   Passenger|   11/17/2011|     24.495|     32.775|        14.18| 802.823625|   464.7495| 338.074125|\n",
            "|    Chrysler|      Concorde|   Passenger|   06-06-2012|     22.245|     31.148|       13.725|  692.88726|   427.5063|  265.38096|\n",
            "|    Chrysler|        Cirrus|   Passenger|   10-06-2011|      16.48|     32.306|        12.64|  532.40288|  408.34784|  124.05504|\n",
            "|    Chrysler|           LHS|   Passenger|   05-08-2012|      28.34|     13.462|       17.325|  381.51308|  233.22915|  148.28393|\n",
            "|    Chrysler|Town & Country|         Car|    7/13/2011|      32.46|      53.48|        19.54|  1735.9608|  1044.9992|   690.9616|\n",
            "|    Chrysler|          300M|   Passenger|   02-10-2012|     29.185|     30.696|        18.23|  895.86276|  559.58808|  336.27468|\n",
            "|       Dodge|          Neon|   Passenger|   12-12-2011|      12.64|     76.034|         7.75|  961.06976|   589.2635|  371.80626|\n",
            "|       Dodge|       Avenger|   Passenger|   07-01-2012|     19.045|      4.734|       12.545|   90.15903|   59.38803|     30.771|\n",
            "|       Dodge|       Stratus|   Passenger|   10/31/2011|      20.23|     71.186|       10.185| 1440.09278|  725.02941|  715.06337|\n",
            "|       Dodge|      Intrepid|   Passenger|   06-02-2012|     22.505|     88.028|       12.275| 1981.07014|  1080.5437|  900.52644|\n",
            "|       Dodge|         Viper|   Passenger|   08-07-2011|     69.725|      0.916|        58.47|    63.8681|   53.55852|   10.30958|\n",
            "|       Dodge|    Ram Pickup|         Car|   03-06-2012|      19.46|    227.061|        15.06| 4418.60706| 3419.53866|   999.0684|\n",
            "|       Dodge|     Ram Wagon|         Car|   01-06-2012|     21.315|     16.767|        15.51| 357.388605|  260.05617|  97.332435|\n",
            "|       Dodge|       Ram Van|         Car|    7/26/2012|     18.575|     31.038|       13.425|  576.53085|  416.68515|   159.8457|\n",
            "|       Dodge|        Dakota|         Car|   11/25/2011|      16.98|    111.313|        11.26| 1890.09474| 1253.38438|  636.71036|\n",
            "|       Dodge|       Durango|         Car|    6/27/2012|      26.31|    101.323|        18.12| 2665.80813| 1835.97276|  829.83537|\n",
            "|       Dodge|       Caravan|         Car|   09-01-2011|     19.565|    181.749|       12.025|3555.919185|2185.531725| 1370.38746|\n",
            "|        Ford|        Escort|   Passenger|    3/31/2012|      12.07|     70.227|        7.425|  847.63989| 521.435475| 326.204415|\n",
            "|        Ford|       Mustang|   Passenger|    1/31/2012|      21.56|    113.369|        12.76| 2444.23564| 1446.58844|   997.6472|\n",
            "|        Ford|       Contour|   Passenger|    8/20/2012|     17.035|     35.068|        8.835|  597.38338|  309.82578|   287.5576|\n",
            "|        Ford|        Taurus|   Passenger|   12/20/2011|     17.885|    245.815|       10.055|4396.401275|2471.669825| 1924.73145|\n",
            "|        Ford|         Focus|   Passenger|    7/22/2012|     12.315|     175.67|         6.14| 2163.37605|  1078.6138| 1084.76225|\n",
            "|        Ford|Crown Victoria|   Passenger|    9/26/2011|     22.195|     63.403|        14.21|1407.229585|  900.95663| 506.272955|\n",
            "|        Ford|      Explorer|         Car|    4/25/2012|      31.93|    276.747|        16.64| 8836.53171| 4605.07008| 4231.46163|\n",
            "|        Ford|      Windstar|         Car|    2/25/2012|      21.41|    155.787|       13.175| 3335.39967|2052.493725|1282.905945|\n",
            "|        Ford|    Expedition|         Car|    9/14/2012|     36.135|    125.338|       23.575| 4529.08863| 2954.84335| 1574.24528|\n",
            "|        Ford|        Ranger|         Car|    1/14/2012|      12.05|     220.65|         7.85|  2658.8325|  1732.1025|     926.73|\n",
            "|        Ford|      F-Series|         Car|    8/16/2012|     26.935|    540.561|       15.075|14560.01054|8148.957075| 6411.05346|\n",
            "|       Honda|         Civic|   Passenger|   10/21/2011|     12.885|    199.685|         9.85|2572.941225| 1966.89725| 606.043975|\n",
            "|       Honda|        Accord|   Passenger|    5/20/2012|      15.35|    230.902|        13.21|  3544.3457| 3050.21542|  494.13028|\n",
            "|       Honda|          CR-V|         Car|    3/21/2012|      20.55|     73.203|        17.71| 1504.32165| 1296.42513|  207.89652|\n",
            "|       Honda|      Passport|         Car|   10-09-2012|       26.6|     12.855|       17.525|    341.943| 225.283875| 116.659125|\n",
            "|       Honda|       Odyssey|         Car|   02-08-2012|         26|     76.029|        19.49|   1976.754| 1481.80521|  494.94879|\n",
            "|     Hyundai|        Accent|   Passenger|   09-10-2012|      9.699|     41.184|         5.86| 399.443616|  241.33824| 158.105376|\n",
            "|     Hyundai|       Elantra|   Passenger|   11/15/2011|     11.799|     66.692|        7.825| 786.898908|   521.8649| 265.034008|\n",
            "|     Hyundai|        Sonata|   Passenger|    6/14/2012|     14.999|      29.45|         8.91|  441.72055|   262.3995|  179.32105|\n",
            "|    Infiniti|           I30|   Passenger|    4/15/2012|     29.465|     23.713|        19.69| 698.703545|  466.90897| 231.794575|\n",
            "|      Jaguar|        S-Type|   Passenger|   11-03-2012|       42.8|     15.467|        23.04|   661.9876|  356.35968|  305.62792|\n",
            "|        Jeep|      Wrangler|         Car|   03-04-2012|      14.46|     55.557|       13.475|  803.35422| 748.630575|  54.723645|\n",
            "|        Jeep|      Cherokee|         Car|   10-05-2012|      21.62|     80.556|       13.775| 1741.62072|  1109.6589|  631.96182|\n",
            "|        Jeep|Grand Cherokee|         Car|   12-10-2011|     26.895|     157.04|        18.81|  4223.5908|  2953.9224|  1269.6684|\n",
            "|       Lexus|         ES300|   Passenger|   07-09-2012|     31.505|     24.072|       26.975|  758.38836|   649.3422|  109.04616|\n",
            "|       Lexus|         GS300|   Passenger|   05-10-2012|     37.805|     12.698|       32.075|  480.04789|  407.28835|   72.75954|\n",
            "|       Lexus|         GS400|   Passenger|   11/28/2012|     46.305|      3.334|        25.55|  154.38087|    85.1837|   69.19717|\n",
            "|       Lexus|         LS400|   Passenger|    3/29/2012|     54.005|      6.375|       40.375| 344.281875| 257.390625|   86.89125|\n",
            "|       Lexus|         LX470|         Car|   10/30/2012|     60.105|      9.126|        50.45|  548.51823|   460.4067|   88.11153|\n",
            "|       Lexus|         RX300|         Car|   01-04-2012|     34.605|     51.238|        26.43| 1773.09099| 1354.22034|  418.87065|\n",
            "|     Lincoln|   Continental|   Passenger|   08-03-2012|      39.08|     13.798|       20.525|  539.22584|  283.20395|  256.02189|\n",
            "|     Lincoln|      Town car|   Passenger|   06-04-2012|      43.33|     48.911|       21.725| 2119.31363|1062.591475|1056.722155|\n",
            "|     Lincoln|     Navigator|         Car|   12/23/2012|      42.66|     22.925|        27.89|   977.9805|  639.37825|  338.60225|\n",
            "|  Mitsubishi|        Mirage|   Passenger|    4/23/2012|     13.987|     26.232|        8.325| 366.906984|   218.3814| 148.525584|\n",
            "|  Mitsubishi|       Eclipse|   Passenger|   11/24/2012|     19.047|     42.541|       10.395| 810.278427| 442.213695| 368.064732|\n",
            "|  Mitsubishi|        Galant|   Passenger|    1/29/2012|     17.357|     55.616|       10.595| 965.326912|  589.25152| 376.075392|\n",
            "|  Mitsubishi|      Diamante|   Passenger|    8/28/2012|     24.997|      5.711|       16.575| 142.757867|  94.659825|  48.098042|\n",
            "|  Mitsubishi|        3000GT|   Passenger|    6/29/2012|      25.45|       0.11|        20.94|     2.7995|     2.3034|     0.4961|\n",
            "|  Mitsubishi|       Montero|         Car|    1/17/2012|     31.807|     11.337|       19.125| 360.595959| 216.820125| 143.775834|\n",
            "|  Mitsubishi| Montero Sport|         Car|    5/18/2012|     22.527|     39.348|        13.88| 886.392396|  546.15024| 340.242156|\n",
            "|     Mercury|      Mystique|   Passenger|   12/19/2012|      16.24|     14.351|          8.8|  233.06024|   126.2888|  106.77144|\n",
            "|     Mercury|        Cougar|   Passenger|    2/23/2012|      16.54|     26.529|        13.89|  438.78966|  368.48781|   70.30185|\n",
            "|     Mercury|         Sable|   Passenger|    9/22/2012|     19.035|     67.956|        11.03| 1293.54246|  749.55468|  543.98778|\n",
            "|     Mercury| Grand Marquis|   Passenger|    7/24/2012|     22.605|     81.174|       14.875| 1834.93827| 1207.46325|  627.47502|\n",
            "|     Mercury|   Mountaineer|         Car|    2/13/2008|      27.56|     27.609|        20.43|  760.90404|  564.05187|  196.85217|\n",
            "|     Mercury|      Villager|         Car|   10/20/2009|      22.51|      20.38|       14.795|   458.7538|   301.5221|   157.2317|\n",
            "|  Mercedes-B|       C-Class|   Passenger|    4/24/2011|      31.75|     18.392|        26.05|    583.946|   479.1116|   104.8344|\n",
            "|  Mercedes-B|       E-Class|   Passenger|   07-12-2011|       49.9|     27.602|        41.45|  1377.3398|  1144.1029|   233.2369|\n",
            "|  Mercedes-B|       S-Class|   Passenger|    6/13/2011|       69.7|     16.774|       50.375|  1169.1478|  844.99025|  324.15755|\n",
            "|  Mercedes-B|      SL-Class|   Passenger|    3/17/2011|       82.6|      3.311|         58.6|   273.4886|   194.0246|     79.464|\n",
            "|  Mercedes-B|           SLK|   Passenger|    1/16/2011|       38.9|      7.998|         28.9|   311.1222|   231.1422|      79.98|\n",
            "|  Mercedes-B|        SLK230|   Passenger|   08-06-2011|         41|      1.526|           20|     62.566|      30.52|     32.046|\n",
            "|  Mercedes-B|     CLK Coupe|   Passenger|   07-08-2011|       41.6|     11.592|        20.06|   482.2272|  232.53552|  249.69168|\n",
            "|  Mercedes-B|         CL500|   Passenger|   04-11-2011|       85.5|      0.954|        64.83|     81.567|   61.84782|   19.71918|\n",
            "+------------+--------------+------------+-------------+-----------+-----------+-------------+-----------+-----------+-----------+\n",
            "only showing top 100 rows\n",
            "\n"
          ]
        }
      ]
    },
    {
      "cell_type": "code",
      "source": [
        "# To display the Acura as manufacturer\n",
        "\n",
        "spark.sql(\"select * from carsdata where Manufacturer=='Acura'\").show(100)"
      ],
      "metadata": {
        "colab": {
          "base_uri": "https://localhost:8080/"
        },
        "id": "uiElIPcw8qNU",
        "outputId": "5eda2b61-f8f0-4e00-be4a-6cb879566e16"
      },
      "execution_count": null,
      "outputs": [
        {
          "output_type": "stream",
          "name": "stdout",
          "text": [
            "+------------+-------+------------+-------------+-----------+-----------+-------------+---------+---------+---------+\n",
            "|Manufacturer|  Model|Vehicle_type|Latest_Launch|Units_Price|Units_Sold |Cost_incurred|  Revenue|     Cost|   profit|\n",
            "+------------+-------+------------+-------------+-----------+-----------+-------------+---------+---------+---------+\n",
            "|       Acura|Integra|   Passenger|   02-02-2012|       21.5|     16.919|        16.36| 363.7585|276.79484| 86.96366|\n",
            "|       Acura|     TL|   Passenger|   06-03-2011|       28.4|     39.384|       19.875|1118.5056|  782.757| 335.7486|\n",
            "|       Acura|     CL|   Passenger|   01-04-2012|      35.44|     14.114|       18.225|500.20016|257.22765|242.97251|\n",
            "|       Acura|     RL|   Passenger|   03-10-2011|         42|      8.588|       29.725|  360.696| 255.2783| 105.4177|\n",
            "+------------+-------+------------+-------------+-----------+-----------+-------------+---------+---------+---------+\n",
            "\n"
          ]
        }
      ]
    },
    {
      "cell_type": "code",
      "source": [
        "# To display the revenue genrated by each manufacturer\n",
        "\n",
        "spark.sql(\"select Manufacturer,max(Revenue) from carsdata group by Manufacturer\").show()"
      ],
      "metadata": {
        "colab": {
          "base_uri": "https://localhost:8080/"
        },
        "id": "ZZV8A6_r8qK2",
        "outputId": "154a1e6a-b8a0-4af8-e309-0f2f877c2b4b"
      },
      "execution_count": null,
      "outputs": [
        {
          "output_type": "stream",
          "name": "stdout",
          "text": [
            "+------------+------------+\n",
            "|Manufacturer|max(Revenue)|\n",
            "+------------+------------+\n",
            "|       Acura|   500.20016|\n",
            "|        Audi|       85.56|\n",
            "|         BMW|    681.8003|\n",
            "|       Buick|     995.555|\n",
            "|    Cadillac|  709.064925|\n",
            "|   Chevrolet|   825.87827|\n",
            "|    Chrysler|   895.86276|\n",
            "|       Dodge|   961.06976|\n",
            "|        Ford|  8836.53171|\n",
            "|       Honda|   3544.3457|\n",
            "|     Hyundai|  786.898908|\n",
            "|    Infiniti|  698.703545|\n",
            "|      Jaguar|    661.9876|\n",
            "|        Jeep|   803.35422|\n",
            "|       Lexus|   758.38836|\n",
            "|     Lincoln|    977.9805|\n",
            "|  Mercedes-B|      81.567|\n",
            "|     Mercury|   760.90404|\n",
            "|  Mitsubishi|  965.326912|\n",
            "|      Nissan|  720.903892|\n",
            "+------------+------------+\n",
            "only showing top 20 rows\n",
            "\n"
          ]
        }
      ]
    },
    {
      "cell_type": "code",
      "source": [
        "spark.sql(\"select Manufacturer,max(Revenue) from carsdata group by Manufacturer order by Manufacturer\").show()"
      ],
      "metadata": {
        "colab": {
          "base_uri": "https://localhost:8080/"
        },
        "id": "Pt_JBxHS8qHz",
        "outputId": "4410a17e-b3ff-448a-e5e3-63bdf65af064"
      },
      "execution_count": null,
      "outputs": [
        {
          "output_type": "stream",
          "name": "stdout",
          "text": [
            "+------------+------------+\n",
            "|Manufacturer|max(Revenue)|\n",
            "+------------+------------+\n",
            "|       Acura|   500.20016|\n",
            "|        Audi|       85.56|\n",
            "|         BMW|    681.8003|\n",
            "|       Buick|     995.555|\n",
            "|    Cadillac|  709.064925|\n",
            "|   Chevrolet|   825.87827|\n",
            "|    Chrysler|   895.86276|\n",
            "|       Dodge|   961.06976|\n",
            "|        Ford|  8836.53171|\n",
            "|       Honda|   3544.3457|\n",
            "|     Hyundai|  786.898908|\n",
            "|    Infiniti|  698.703545|\n",
            "|      Jaguar|    661.9876|\n",
            "|        Jeep|   803.35422|\n",
            "|       Lexus|   758.38836|\n",
            "|     Lincoln|    977.9805|\n",
            "|  Mercedes-B|      81.567|\n",
            "|     Mercury|   760.90404|\n",
            "|  Mitsubishi|  965.326912|\n",
            "|      Nissan|  720.903892|\n",
            "+------------+------------+\n",
            "only showing top 20 rows\n",
            "\n"
          ]
        }
      ]
    },
    {
      "cell_type": "code",
      "source": [
        "spark.sql(\"select Manufacturer,max(Revenue) from carsdata group by Manufacturer order by Manufacturer desc\").show()"
      ],
      "metadata": {
        "colab": {
          "base_uri": "https://localhost:8080/"
        },
        "id": "1W6YaqgE8qFT",
        "outputId": "f0a3733c-54b6-4bc3-aa14-add89c9440fc"
      },
      "execution_count": null,
      "outputs": [
        {
          "output_type": "stream",
          "name": "stdout",
          "text": [
            "+------------+------------+\n",
            "|Manufacturer|max(Revenue)|\n",
            "+------------+------------+\n",
            "|       Volvo|      86.498|\n",
            "|  Volkswagen|       97.93|\n",
            "|      Toyota|  969.354936|\n",
            "|      Subaru|   663.69766|\n",
            "|      Saturn|    861.4247|\n",
            "|        Saab|    316.2015|\n",
            "|     Porsche|     90.9056|\n",
            "|     Pontiac|  853.873475|\n",
            "|    Plymouth|     84.2592|\n",
            "|  Oldsmobile|    931.0791|\n",
            "|      Nissan|  720.903892|\n",
            "|  Mitsubishi|  965.326912|\n",
            "|     Mercury|   760.90404|\n",
            "|  Mercedes-B|      81.567|\n",
            "|     Lincoln|    977.9805|\n",
            "|       Lexus|   758.38836|\n",
            "|        Jeep|   803.35422|\n",
            "|      Jaguar|    661.9876|\n",
            "|    Infiniti|  698.703545|\n",
            "|     Hyundai|  786.898908|\n",
            "+------------+------------+\n",
            "only showing top 20 rows\n",
            "\n"
          ]
        }
      ]
    },
    {
      "cell_type": "code",
      "source": [
        "# Performing Inner join of two tables carsdata and salestable\n",
        "\n",
        "spark.sql(\"\"\"select a.Manufacturer,a.Model,b.SalesPerson\n",
        "from carsdata a\n",
        "join salestable b\n",
        "on trim(a.Manufacturer)= trim(b.Manufacturer)\"\"\").show(5,False)"
      ],
      "metadata": {
        "colab": {
          "base_uri": "https://localhost:8080/"
        },
        "id": "jO1_yBJ-AM6y",
        "outputId": "32a6ef99-c5ea-42f1-bacc-fbc56be5a2ee"
      },
      "execution_count": null,
      "outputs": [
        {
          "output_type": "stream",
          "name": "stdout",
          "text": [
            "+------------+---------+-------------+\n",
            "|Manufacturer|Model    |SalesPerson  |\n",
            "+------------+---------+-------------+\n",
            "|Dodge       |Caravan  |Mohammed Saif|\n",
            "|Dodge       |Durango  |Mohammed Saif|\n",
            "|Dodge       |Dakota   |Mohammed Saif|\n",
            "|Dodge       |Ram Van  |Mohammed Saif|\n",
            "|Dodge       |Ram Wagon|Mohammed Saif|\n",
            "+------------+---------+-------------+\n",
            "only showing top 5 rows\n",
            "\n"
          ]
        }
      ]
    },
    {
      "cell_type": "code",
      "source": [
        "# Performing Inner join of two tables carsdata and salestable and where clause\n",
        "spark.sql(\"\"\"select a.Manufacturer,a.Model,b.SalesPerson\n",
        "from carsdata a\n",
        "join salestable b\n",
        "on trim(a.Manufacturer)= trim(b.Manufacturer)\n",
        "where trim(a.Manufacturer)='Cadillac'\n",
        "\"\"\").show(5,False)"
      ],
      "metadata": {
        "colab": {
          "base_uri": "https://localhost:8080/"
        },
        "id": "bgYv_stYAMxr",
        "outputId": "00922915-feae-4faa-cef1-7f51e4b85e14"
      },
      "execution_count": null,
      "outputs": [
        {
          "output_type": "stream",
          "name": "stdout",
          "text": [
            "+------------+--------+-------------+\n",
            "|Manufacturer|Model   |SalesPerson  |\n",
            "+------------+--------+-------------+\n",
            "|Cadillac    |Escalade|George Carlin|\n",
            "|Cadillac    |Catera  |George Carlin|\n",
            "|Cadillac    |Eldorado|George Carlin|\n",
            "|Cadillac    |Seville |George Carlin|\n",
            "|Cadillac    |DeVille |George Carlin|\n",
            "+------------+--------+-------------+\n",
            "\n"
          ]
        }
      ]
    },
    {
      "cell_type": "code",
      "source": [
        "# saving the file\n",
        "df_final = spark.sql(\"\"\"select a.Manufacturer,a.Model,b.SalesPerson\n",
        "from carsdata a\n",
        "join salestable b\n",
        "on trim(a.Manufacturer)= trim(b.Manufacturer)\n",
        "where trim(a.Manufacturer)='Cadillac'\n",
        "\"\"\")\n"
      ],
      "metadata": {
        "id": "hnYXCsI9AMur"
      },
      "execution_count": null,
      "outputs": []
    },
    {
      "cell_type": "code",
      "source": [
        "df_final.coalesce(1).write.csv(\"vehicle1.csv\",header=True)"
      ],
      "metadata": {
        "id": "lyKAa3WkAMrC"
      },
      "execution_count": 101,
      "outputs": []
    },
    {
      "cell_type": "code",
      "source": [],
      "metadata": {
        "id": "FOi2d4snF1Zo"
      },
      "execution_count": null,
      "outputs": []
    }
  ]
}